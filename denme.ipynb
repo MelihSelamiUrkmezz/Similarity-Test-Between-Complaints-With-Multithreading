{
 "cells": [
  {
   "cell_type": "code",
   "execution_count": 2,
   "metadata": {},
   "outputs": [],
   "source": [
    "import pandas as pd"
   ]
  },
  {
   "cell_type": "code",
   "execution_count": 10,
   "metadata": {},
   "outputs": [
    {
     "data": {
      "text/html": [
       "<div>\n",
       "<style scoped>\n",
       "    .dataframe tbody tr th:only-of-type {\n",
       "        vertical-align: middle;\n",
       "    }\n",
       "\n",
       "    .dataframe tbody tr th {\n",
       "        vertical-align: top;\n",
       "    }\n",
       "\n",
       "    .dataframe thead th {\n",
       "        text-align: right;\n",
       "    }\n",
       "</style>\n",
       "<table border=\"1\" class=\"dataframe\">\n",
       "  <thead>\n",
       "    <tr style=\"text-align: right;\">\n",
       "      <th></th>\n",
       "      <th>Product</th>\n",
       "      <th>Issue</th>\n",
       "      <th>Company</th>\n",
       "      <th>State</th>\n",
       "      <th>ZIP code</th>\n",
       "      <th>Complaint ID</th>\n",
       "    </tr>\n",
       "  </thead>\n",
       "  <tbody>\n",
       "    <tr>\n",
       "      <th>0</th>\n",
       "      <td>savings account Checking</td>\n",
       "      <td>account Managing</td>\n",
       "      <td>NAVY CREDIT UNION FEDERAL</td>\n",
       "      <td>FL</td>\n",
       "      <td>328XX</td>\n",
       "      <td>3238275</td>\n",
       "    </tr>\n",
       "    <tr>\n",
       "      <th>1</th>\n",
       "      <td>savings account Checking</td>\n",
       "      <td>account Managing</td>\n",
       "      <td>CREDIT UNION BOEING EMPLOYEES</td>\n",
       "      <td>WA</td>\n",
       "      <td>98204</td>\n",
       "      <td>3238228</td>\n",
       "    </tr>\n",
       "    <tr>\n",
       "      <th>2</th>\n",
       "      <td>collection Debt</td>\n",
       "      <td>Communication tactics</td>\n",
       "      <td>CURO Intermediate Holdings</td>\n",
       "      <td>TX</td>\n",
       "      <td>751XX</td>\n",
       "      <td>3237964</td>\n",
       "    </tr>\n",
       "    <tr>\n",
       "      <th>3</th>\n",
       "      <td>repair personal reports reporting credit Credi...</td>\n",
       "      <td>Incorrect report information</td>\n",
       "      <td>Recovery Services Inc Astra Ad</td>\n",
       "      <td>LA</td>\n",
       "      <td>708XX</td>\n",
       "      <td>3238479</td>\n",
       "    </tr>\n",
       "    <tr>\n",
       "      <th>4</th>\n",
       "      <td>savings account Checking</td>\n",
       "      <td>account Managing</td>\n",
       "      <td>ALLY INC FINANCIAL</td>\n",
       "      <td>AZ</td>\n",
       "      <td>85205</td>\n",
       "      <td>3238460</td>\n",
       "    </tr>\n",
       "  </tbody>\n",
       "</table>\n",
       "</div>"
      ],
      "text/plain": [
       "                                             Product  \\\n",
       "0                          savings account Checking    \n",
       "1                          savings account Checking    \n",
       "2                                   collection Debt    \n",
       "3  repair personal reports reporting credit Credi...   \n",
       "4                          savings account Checking    \n",
       "\n",
       "                           Issue                          Company State  \\\n",
       "0              account Managing        NAVY CREDIT UNION FEDERAL    FL    \n",
       "1              account Managing    CREDIT UNION BOEING EMPLOYEES    WA    \n",
       "2         Communication tactics       CURO Intermediate Holdings    TX    \n",
       "3  Incorrect report information   Recovery Services Inc Astra Ad    LA    \n",
       "4              account Managing               ALLY INC FINANCIAL    AZ    \n",
       "\n",
       "  ZIP code  Complaint ID  \n",
       "0   328XX        3238275  \n",
       "1   98204        3238228  \n",
       "2   751XX        3237964  \n",
       "3   708XX        3238479  \n",
       "4   85205        3238460  "
      ]
     },
     "execution_count": 10,
     "metadata": {},
     "output_type": "execute_result"
    }
   ],
   "source": [
    "allData = pd.read_csv(r\"C:\\Users\\ASUS Pc\\Desktop\\VSCodeProject\\yazlab12\\clean_data.csv\", encoding='latin1')\n",
    "\n",
    "allData.head()"
   ]
  },
  {
   "cell_type": "code",
   "execution_count": 11,
   "metadata": {},
   "outputs": [
    {
     "name": "stdout",
     "output_type": "stream",
     "text": [
      "****************************************************************************************************\n"
     ]
    }
   ],
   "source": [
    "# herhangi bir stuna ulasmka icin \n",
    "\n",
    "allData['Product'].head()\n",
    "print('*'*100)"
   ]
  },
  {
   "cell_type": "code",
   "execution_count": 12,
   "metadata": {},
   "outputs": [
    {
     "name": "stdout",
     "output_type": "stream",
     "text": [
      "0     True\n",
      "1     True\n",
      "2    False\n",
      "3    False\n",
      "4     True\n",
      "Name: Product, dtype: bool\n"
     ]
    }
   ],
   "source": [
    "# spesifik bir productu istersek de == 'temp' dememiz yeterli bize true false dondurur\n",
    "\n",
    "selectedProduct = allData['Product'] == 'savings account Checking '\n",
    "print(selectedProduct.head())\n"
   ]
  },
  {
   "cell_type": "code",
   "execution_count": 13,
   "metadata": {},
   "outputs": [
    {
     "data": {
      "text/html": [
       "<div>\n",
       "<style scoped>\n",
       "    .dataframe tbody tr th:only-of-type {\n",
       "        vertical-align: middle;\n",
       "    }\n",
       "\n",
       "    .dataframe tbody tr th {\n",
       "        vertical-align: top;\n",
       "    }\n",
       "\n",
       "    .dataframe thead th {\n",
       "        text-align: right;\n",
       "    }\n",
       "</style>\n",
       "<table border=\"1\" class=\"dataframe\">\n",
       "  <thead>\n",
       "    <tr style=\"text-align: right;\">\n",
       "      <th></th>\n",
       "      <th>Product</th>\n",
       "      <th>Issue</th>\n",
       "      <th>Company</th>\n",
       "      <th>State</th>\n",
       "      <th>ZIP code</th>\n",
       "      <th>Complaint ID</th>\n",
       "    </tr>\n",
       "  </thead>\n",
       "  <tbody>\n",
       "    <tr>\n",
       "      <th>0</th>\n",
       "      <td>savings account Checking</td>\n",
       "      <td>account Managing</td>\n",
       "      <td>NAVY CREDIT UNION FEDERAL</td>\n",
       "      <td>FL</td>\n",
       "      <td>328XX</td>\n",
       "      <td>3238275</td>\n",
       "    </tr>\n",
       "    <tr>\n",
       "      <th>1</th>\n",
       "      <td>savings account Checking</td>\n",
       "      <td>account Managing</td>\n",
       "      <td>CREDIT UNION BOEING EMPLOYEES</td>\n",
       "      <td>WA</td>\n",
       "      <td>98204</td>\n",
       "      <td>3238228</td>\n",
       "    </tr>\n",
       "    <tr>\n",
       "      <th>4</th>\n",
       "      <td>savings account Checking</td>\n",
       "      <td>account Managing</td>\n",
       "      <td>ALLY INC FINANCIAL</td>\n",
       "      <td>AZ</td>\n",
       "      <td>85205</td>\n",
       "      <td>3238460</td>\n",
       "    </tr>\n",
       "    <tr>\n",
       "      <th>19</th>\n",
       "      <td>savings account Checking</td>\n",
       "      <td>account Managing</td>\n",
       "      <td>ALLY INC FINANCIAL</td>\n",
       "      <td>CO</td>\n",
       "      <td>81302</td>\n",
       "      <td>3237160</td>\n",
       "    </tr>\n",
       "    <tr>\n",
       "      <th>54</th>\n",
       "      <td>savings account Checking</td>\n",
       "      <td>Problem charging account lender company</td>\n",
       "      <td>NAVY CREDIT UNION FEDERAL</td>\n",
       "      <td>MD</td>\n",
       "      <td>207XX</td>\n",
       "      <td>3237252</td>\n",
       "    </tr>\n",
       "  </tbody>\n",
       "</table>\n",
       "</div>"
      ],
      "text/plain": [
       "                      Product                                     Issue  \\\n",
       "0   savings account Checking                          account Managing    \n",
       "1   savings account Checking                          account Managing    \n",
       "4   savings account Checking                          account Managing    \n",
       "19  savings account Checking                          account Managing    \n",
       "54  savings account Checking   Problem charging account lender company    \n",
       "\n",
       "                           Company State ZIP code  Complaint ID  \n",
       "0       NAVY CREDIT UNION FEDERAL    FL    328XX        3238275  \n",
       "1   CREDIT UNION BOEING EMPLOYEES    WA    98204        3238228  \n",
       "4              ALLY INC FINANCIAL    AZ    85205        3238460  \n",
       "19             ALLY INC FINANCIAL    CO    81302        3237160  \n",
       "54      NAVY CREDIT UNION FEDERAL    MD    207XX        3237252  "
      ]
     },
     "execution_count": 13,
     "metadata": {},
     "output_type": "execute_result"
    }
   ],
   "source": [
    "# true ya gore bastirmak istersek de\n",
    "allData[selectedProduct].head()\n"
   ]
  },
  {
   "cell_type": "code",
   "execution_count": 14,
   "metadata": {},
   "outputs": [
    {
     "name": "stdout",
     "output_type": "stream",
     "text": [
      "<class 'pandas.core.frame.DataFrame'>\n",
      "RangeIndex: 1282355 entries, 0 to 1282354\n",
      "Data columns (total 6 columns):\n",
      " #   Column        Non-Null Count    Dtype \n",
      "---  ------        --------------    ----- \n",
      " 0   Product       1282355 non-null  object\n",
      " 1   Issue         1282355 non-null  object\n",
      " 2   Company       1282355 non-null  object\n",
      " 3   State         1262955 non-null  object\n",
      " 4   ZIP code      1167057 non-null  object\n",
      " 5   Complaint ID  1282355 non-null  int64 \n",
      "dtypes: int64(1), object(5)\n",
      "memory usage: 58.7+ MB\n"
     ]
    }
   ],
   "source": [
    "# Not bu islemi yani filterlama true olaylarını birkac sey icin de yapabilirz onun icin | or & and eklersin\n",
    "\n",
    "# DataFrame info\n",
    "allData.info()\n",
    "\n"
   ]
  },
  {
   "cell_type": "markdown",
   "metadata": {},
   "source": [
    "#### Suan gosteremiyorum ama allData['benzerlik'] > 65 olanları al meselea"
   ]
  },
  {
   "cell_type": "code",
   "execution_count": 9,
   "metadata": {},
   "outputs": [
    {
     "data": {
      "text/plain": [
       "array(['savings account Checking ', 'collection Debt ',\n",
       "       'repair personal reports reporting credit Credit consumer services ',\n",
       "       'Mortgage ', 'Student loan ', 'loan Vehicle lease ',\n",
       "       'card Credit prepaid ', 'personal Payday loan title ',\n",
       "       'virtual Money currency service money transfer ',\n",
       "       'Credit reporting ', 'card Credit ', 'Bank account service ',\n",
       "       'Loan Consumer ', 'card Prepaid ', 'service financial Other ',\n",
       "       'Payday loan ', 'transfers Money ', 'currency Virtual '],\n",
       "      dtype=object)"
      ]
     },
     "execution_count": 9,
     "metadata": {},
     "output_type": "execute_result"
    }
   ],
   "source": [
    "# Stuna ozgu bir birinden farklı verileri almak icin\n",
    "allData['Product'].unique()"
   ]
  },
  {
   "cell_type": "markdown",
   "metadata": {},
   "source": [
    "#### id sini degistirmek icin allData.set_index('product')"
   ]
  },
  {
   "cell_type": "markdown",
   "metadata": {},
   "source": [
    "#### allData.iloc[0] bize indexe gore 0. indexi verir"
   ]
  },
  {
   "cell_type": "markdown",
   "metadata": {},
   "source": [
    "#### allData.loc[gercek index degeri] bize o indexi verir"
   ]
  },
  {
   "cell_type": "markdown",
   "metadata": {},
   "source": [
    "#### aralık vermek icin mesela allData.iloc[0:3]"
   ]
  },
  {
   "cell_type": "markdown",
   "metadata": {},
   "source": [
    "#### meseela bir stundu duzenlicen allData['product'] == (allData['point'] * 3)\n"
   ]
  },
  {
   "cell_type": "code",
   "execution_count": 15,
   "metadata": {},
   "outputs": [
    {
     "data": {
      "text/plain": [
       "Index(['Product', 'Issue', 'Company', 'State', 'ZIP code', 'Complaint ID'], dtype='object')"
      ]
     },
     "execution_count": 15,
     "metadata": {},
     "output_type": "execute_result"
    }
   ],
   "source": [
    "#  kolonları gormek icin\n",
    "allData.columns"
   ]
  },
  {
   "cell_type": "code",
   "execution_count": 16,
   "metadata": {},
   "outputs": [
    {
     "data": {
      "text/plain": [
       "RangeIndex(start=0, stop=1282355, step=1)"
      ]
     },
     "execution_count": 16,
     "metadata": {},
     "output_type": "execute_result"
    }
   ],
   "source": [
    "# indexler icin\n",
    "allData.index"
   ]
  },
  {
   "cell_type": "markdown",
   "metadata": {},
   "source": [
    "####  Tüm nanları düşürür allProduct.dropna()"
   ]
  },
  {
   "cell_type": "markdown",
   "metadata": {},
   "source": [
    "#### Type atamak icin allProduct['deneme'].astype('float')"
   ]
  },
  {
   "cell_type": "code",
   "execution_count": 18,
   "metadata": {},
   "outputs": [
    {
     "data": {
      "text/plain": [
       "0           True\n",
       "1           True\n",
       "2          False\n",
       "3          False\n",
       "4           True\n",
       "           ...  \n",
       "1282350    False\n",
       "1282351    False\n",
       "1282352    False\n",
       "1282353    False\n",
       "1282354    False\n",
       "Name: Product, Length: 1282355, dtype: bool"
      ]
     },
     "execution_count": 18,
     "metadata": {},
     "output_type": "execute_result"
    }
   ],
   "source": [
    "# icersinde iceriyorsa cagir komutu\n",
    "allData['Product'].str.contains(\"savings\")"
   ]
  }
 ],
 "metadata": {
  "kernelspec": {
   "display_name": "Python 3.8.10 64-bit",
   "language": "python",
   "name": "python3"
  },
  "language_info": {
   "codemirror_mode": {
    "name": "ipython",
    "version": 3
   },
   "file_extension": ".py",
   "mimetype": "text/x-python",
   "name": "python",
   "nbconvert_exporter": "python",
   "pygments_lexer": "ipython3",
   "version": "3.8.10"
  },
  "orig_nbformat": 4,
  "vscode": {
   "interpreter": {
    "hash": "d633f4621cd9e90ba96c22bcb2fc07eb9302833f58b34ba9f4bcc80eeb3d26dc"
   }
  }
 },
 "nbformat": 4,
 "nbformat_minor": 2
}
